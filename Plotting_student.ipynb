{
 "cells": [
  {
   "cell_type": "markdown",
   "metadata": {},
   "source": [
    "# Plotting data in Python with matplotlib\n",
    "\n",
    "This example uses the dataset from [Smith et al. (2003)](http://www.esapubs.org/archive/ecol/E084/094/metadata.htm) with data on body mass for over 5,000 species of mammals. Along with the mass is information on whether the species is extinct or extant (living), distribution and taxonomy.\n",
    "\n",
    "We will use this dataset to explore ploting in Python using matplotlib. \n"
   ]
  },
  {
   "cell_type": "markdown",
   "metadata": {},
   "source": [
    "## Pandas\n",
    "[Pandas](http://pandas.pydata.org/) is an open source, BSD-licensed library providing high-performance, easy-to-use data structures and data analysis tools for the Python programming language.\n",
    "\n",
    "It is common practice to `import pandas as pd`, and then reference its functions as pd.function.\n",
    "\n",
    "We will use the [DataFrame](http://pandas.pydata.org/pandas-docs/stable/generated/pandas.DataFrame.html#pandas.DataFrame) class to import a table of data. \n",
    "\n"
   ]
  },
  {
   "cell_type": "markdown",
   "metadata": {},
   "source": [
    "## The code blocks\n"
   ]
  },
  {
   "cell_type": "code",
   "execution_count": 41,
   "metadata": {
    "collapsed": false
   },
   "outputs": [],
   "source": [
    "import pandas as pd\n",
    "import numpy as np\n",
    "import matplotlib.pyplot as plt\n",
    "import matplotlib.patches as patches\n",
    "import matplotlib.path as path\n",
    "\n",
    "#Set matplotlib to display graphs in jupyter\n",
    "%matplotlib inline\n",
    "\n",
    "# Get some data from the Mammals.csv file\n",
    "# This file was downloaded from http://www.esapubs.org/archive/ecol/E084/094/metadata.htm\n",
    "# A header row of column values was added and delimiters changed to commas.\n",
    "data = pd.read_csv('data/Mammals.csv')"
   ]
  },
  {
   "cell_type": "code",
   "execution_count": 1,
   "metadata": {
    "collapsed": false
   },
   "outputs": [],
   "source": [
    "# data is a pandas datafram\n",
    "# Let's have a look at a few rows of the file.\n"
   ]
  },
  {
   "cell_type": "code",
   "execution_count": 2,
   "metadata": {
    "collapsed": false
   },
   "outputs": [],
   "source": [
    "# Get some stats on the data\n"
   ]
  },
  {
   "cell_type": "code",
   "execution_count": 4,
   "metadata": {
    "collapsed": false
   },
   "outputs": [],
   "source": [
    "# groupby is a great function to help explore data.\n"
   ]
  },
  {
   "cell_type": "code",
   "execution_count": 5,
   "metadata": {
    "collapsed": false
   },
   "outputs": [],
   "source": [
    "# hist() will make a histogram of the data\n"
   ]
  },
  {
   "cell_type": "code",
   "execution_count": 6,
   "metadata": {
    "collapsed": false
   },
   "outputs": [],
   "source": [
    "# We can modify how hist() works, adding the column we want, specifying how many bins\n",
    "#   to divide the data into, the range to use on the x-axis and other features.\n"
   ]
  },
  {
   "cell_type": "code",
   "execution_count": 7,
   "metadata": {
    "collapsed": false
   },
   "outputs": [],
   "source": [
    "# We can use \"by\" to group by a column.\n"
   ]
  },
  {
   "cell_type": "code",
   "execution_count": 8,
   "metadata": {
    "collapsed": false
   },
   "outputs": [],
   "source": [
    "# Let's focus on the extant species by making a new dataframe with only the exant records.\n",
    "# .loc() is a label-based selector.\n"
   ]
  },
  {
   "cell_type": "code",
   "execution_count": null,
   "metadata": {
    "collapsed": false
   },
   "outputs": [],
   "source": []
  },
  {
   "cell_type": "code",
   "execution_count": null,
   "metadata": {
    "collapsed": false
   },
   "outputs": [],
   "source": []
  },
  {
   "cell_type": "markdown",
   "metadata": {},
   "source": [
    "## And another way...\n"
   ]
  },
  {
   "cell_type": "code",
   "execution_count": 59,
   "metadata": {
    "collapsed": false
   },
   "outputs": [
    {
     "data": {
      "text/plain": [
       "Continent\n",
       "AF     Axes(0.125,0.125;0.775x0.755)\n",
       "AUS    Axes(0.125,0.125;0.775x0.755)\n",
       "Name: Combined_mass, dtype: object"
      ]
     },
     "execution_count": 59,
     "metadata": {},
     "output_type": "execute_result"
    },
    {
     "data": {
      "image/png": "[encoded data removed]",
      "text/plain": [
       "<matplotlib.figure.Figure at 0x114e374e0>"
      ]
     },
     "metadata": {},
     "output_type": "display_data"
    }
   ],
   "source": [
    "# In Python there is always more than one way to do things..\n",
    "# Have a look at this code and describe what each line is doing.\n",
    "\n",
    "bin_values=np.arange(start=0,stop=200,step=10)\n",
    "Cont_mass_index=Extant['Continent'].isin(['AF','AUS'])\n",
    "Cont_mass=Extant[Cont_mass_index]\n",
    "Group_mass=Cont_mass.groupby('Continent')['Combined_mass']\n",
    "Group_mass.plot(kind='hist',bins=bin_values, alpha=0.4,legend=True)"
   ]
  },
  {
   "cell_type": "code",
   "execution_count": 71,
   "metadata": {
    "collapsed": false
   },
   "outputs": [
    {
     "data": {
      "text/plain": [
       "['Artiodactyla',\n",
       " 'Carnivora',\n",
       " 'Chiroptera',\n",
       " 'Hyracoidea',\n",
       " 'Insectivora',\n",
       " 'Lagomorpha',\n",
       " 'Macroscelidea',\n",
       " 'Perissodactyla',\n",
       " 'Pholidota',\n",
       " 'Primates',\n",
       " 'Proboscidea',\n",
       " 'Rodentia',\n",
       " 'Sirenia',\n",
       " 'Tubulidentata',\n",
       " 'Dasyuromorphia',\n",
       " 'Diprotodontia',\n",
       " 'Monotremata',\n",
       " 'Notoryctemorphia',\n",
       " 'Peramelemorphia',\n",
       " 'Dermoptera',\n",
       " 'Scandentia',\n",
       " 'Didelphimorphia',\n",
       " 'Xenarthra',\n",
       " 'Cetacea',\n",
       " 'Microbiotheria',\n",
       " 'Paucituberculata']"
      ]
     },
     "execution_count": 71,
     "metadata": {},
     "output_type": "execute_result"
    }
   ],
   "source": [
    "# You may have a reason to get the values from the columns, or even the unique values,\n",
    "# like the names of the Orders in the table.\n",
    "Orders=Extant['Order'].unique().tolist()\n",
    "Orders"
   ]
  },
  {
   "cell_type": "code",
   "execution_count": 74,
   "metadata": {
    "collapsed": false
   },
   "outputs": [
    {
     "data": {
      "text/plain": [
       "<matplotlib.axes._subplots.AxesSubplot at 0x115ee8358>"
      ]
     },
     "execution_count": 74,
     "metadata": {},
     "output_type": "execute_result"
    },
    {
     "data": {
      "image/png": "[encoded data removed]",
      "text/plain": [
       "<matplotlib.figure.Figure at 0x115daebe0>"
      ]
     },
     "metadata": {},
     "output_type": "display_data"
    }
   ],
   "source": [
    "# Make a boxplot of Combined mass by Order\n",
    "Extant.boxplot(column='Combined_mass', by='Order', rot=90)"
   ]
  },
  {
   "cell_type": "code",
   "execution_count": 9,
   "metadata": {
    "collapsed": false
   },
   "outputs": [],
   "source": [
    "# Above, we used 'Extant=data.loc[data['Status']=='extant']' to get the exant samples.\n",
    "# How could we modify that to remove the Cetaceans?\n",
    "\n"
   ]
  },
  {
   "cell_type": "code",
   "execution_count": null,
   "metadata": {
    "collapsed": true
   },
   "outputs": [],
   "source": []
  }
 ],
 "metadata": {
  "kernelspec": {
   "display_name": "Python 3",
   "language": "python",
   "name": "python3"
  },
  "language_info": {
   "codemirror_mode": {
    "name": "ipython",
    "version": 3
   },
   "file_extension": ".py",
   "mimetype": "text/x-python",
   "name": "python",
   "nbconvert_exporter": "python",
   "pygments_lexer": "ipython3",
   "version": "3.6.1"
  }
 },
 "nbformat": 4,
 "nbformat_minor": 2
}
