{
 "cells": [
  {
   "cell_type": "markdown",
   "metadata": {},
   "source": [
    "# Plotting data in Python with matplotlib\n",
    "\n",
    "This example uses the dataset from [Smith et al. (2003)](http://www.esapubs.org/archive/ecol/E084/094/metadata.htm) with data on body mass for over 5,000 species of mammals. Along with the mass is information on whether the species is extinct or extant (living), distribution and taxonomy.\n",
    "\n",
    "We will use this dataset to explore ploting in Python using matplotlib. \n"
   ]
  },
  {
   "cell_type": "markdown",
   "metadata": {},
   "source": [
    "## Pandas\n",
    "[Pandas](http://pandas.pydata.org/) is an open source, BSD-licensed library providing high-performance, easy-to-use data structures and data analysis tools for the Python programming language.\n",
    "\n",
    "It is common practice to `import pandas as pd`, and then refernce its functions as pd.function.\n",
    "\n",
    "We will use its [DataFrame](http://pandas.pydata.org/pandas-docs/stable/generated/pandas.DataFrame.html#pandas.DataFrame) class to import a table of data. \n",
    "\n"
   ]
  },
  {
   "cell_type": "markdown",
   "metadata": {},
   "source": [
    "## The code blocks\n"
   ]
  },
  {
   "cell_type": "code",
   "execution_count": 2,
   "metadata": {
    "collapsed": false
   },
   "outputs": [],
   "source": [
    "import pandas as pd\n",
    "import numpy as np\n",
    "import matplotlib.pyplot as plt\n",
    "import matplotlib.patches as patches\n",
    "import matplotlib.path as path\n",
    "\n",
    "# Get some data from the Mammals.csv file\n",
    "# This file was downloaded from http://www.esapubs.org/archive/ecol/E084/094/metadata.htm\n",
    "data = pd.read_csv('data/Mammals.csv')"
   ]
  },
  {
   "cell_type": "code",
   "execution_count": 13,
   "metadata": {
    "collapsed": false
   },
   "outputs": [
    {
     "data": {
      "text/html": [
       "<div>\n",
       "<table border=\"1\" class=\"dataframe\">\n",
       "  <thead>\n",
       "    <tr style=\"text-align: right;\">\n",
       "      <th></th>\n",
       "      <th>Continent</th>\n",
       "      <th>Status</th>\n",
       "      <th>Order</th>\n",
       "      <th>Family</th>\n",
       "      <th>Genus</th>\n",
       "      <th>Species</th>\n",
       "      <th>Log mass</th>\n",
       "      <th>Combined mass</th>\n",
       "      <th>Reference</th>\n",
       "    </tr>\n",
       "  </thead>\n",
       "  <tbody>\n",
       "    <tr>\n",
       "      <th>0</th>\n",
       "      <td>AF</td>\n",
       "      <td>extant</td>\n",
       "      <td>Artiodactyla</td>\n",
       "      <td>Bovidae</td>\n",
       "      <td>Addax</td>\n",
       "      <td>nasomaculatus</td>\n",
       "      <td>4.85</td>\n",
       "      <td>70000.3</td>\n",
       "      <td>60</td>\n",
       "    </tr>\n",
       "    <tr>\n",
       "      <th>1</th>\n",
       "      <td>AF</td>\n",
       "      <td>extant</td>\n",
       "      <td>Artiodactyla</td>\n",
       "      <td>Bovidae</td>\n",
       "      <td>Aepyceros</td>\n",
       "      <td>melampus</td>\n",
       "      <td>4.72</td>\n",
       "      <td>52500.1</td>\n",
       "      <td>63, 70</td>\n",
       "    </tr>\n",
       "    <tr>\n",
       "      <th>2</th>\n",
       "      <td>AF</td>\n",
       "      <td>extant</td>\n",
       "      <td>Artiodactyla</td>\n",
       "      <td>Bovidae</td>\n",
       "      <td>Alcelaphus</td>\n",
       "      <td>buselaphus</td>\n",
       "      <td>5.23</td>\n",
       "      <td>171001.5</td>\n",
       "      <td>63, 70</td>\n",
       "    </tr>\n",
       "    <tr>\n",
       "      <th>3</th>\n",
       "      <td>AF</td>\n",
       "      <td>extant</td>\n",
       "      <td>Artiodactyla</td>\n",
       "      <td>Bovidae</td>\n",
       "      <td>Ammodorcas</td>\n",
       "      <td>clarkei</td>\n",
       "      <td>4.45</td>\n",
       "      <td>28049.8</td>\n",
       "      <td>60</td>\n",
       "    </tr>\n",
       "    <tr>\n",
       "      <th>4</th>\n",
       "      <td>AF</td>\n",
       "      <td>extant</td>\n",
       "      <td>Artiodactyla</td>\n",
       "      <td>Bovidae</td>\n",
       "      <td>Ammotragus</td>\n",
       "      <td>lervia</td>\n",
       "      <td>4.68</td>\n",
       "      <td>48000.0</td>\n",
       "      <td>75</td>\n",
       "    </tr>\n",
       "  </tbody>\n",
       "</table>\n",
       "</div>"
      ],
      "text/plain": [
       "  Continent  Status         Order   Family       Genus        Species  \\\n",
       "0        AF  extant  Artiodactyla  Bovidae       Addax  nasomaculatus   \n",
       "1        AF  extant  Artiodactyla  Bovidae   Aepyceros       melampus   \n",
       "2        AF  extant  Artiodactyla  Bovidae  Alcelaphus     buselaphus   \n",
       "3        AF  extant  Artiodactyla  Bovidae  Ammodorcas        clarkei   \n",
       "4        AF  extant  Artiodactyla  Bovidae  Ammotragus         lervia   \n",
       "\n",
       "   Log mass  Combined mass Reference  \n",
       "0      4.85        70000.3        60  \n",
       "1      4.72        52500.1    63, 70  \n",
       "2      5.23       171001.5    63, 70  \n",
       "3      4.45        28049.8        60  \n",
       "4      4.68        48000.0        75  "
      ]
     },
     "execution_count": 13,
     "metadata": {},
     "output_type": "execute_result"
    }
   ],
   "source": [
    "# data is a pandas datafram\n",
    "# Let's have a look at a few rows of the file.\n",
    "data.head()"
   ]
  },
  {
   "cell_type": "code",
   "execution_count": 133,
   "metadata": {
    "collapsed": false
   },
   "outputs": [
    {
     "name": "stdout",
     "output_type": "stream",
     "text": [
      "          Log_mass  Combined_mass\n",
      "count  5731.000000   5.731000e+03\n",
      "mean   -237.270858   1.531570e+05\n",
      "std     427.389632   3.149260e+06\n",
      "min    -999.000000  -9.990000e+02\n",
      "25%       0.600000   4.000000e+00\n",
      "50%       1.600000   4.000000e+01\n",
      "75%       2.890000   7.757000e+02\n",
      "max       8.280000   1.900000e+08\n"
     ]
    }
   ],
   "source": [
    "# Get some stats on the data\n",
    "print (data.describe())"
   ]
  },
  {
   "cell_type": "code",
   "execution_count": 4,
   "metadata": {
    "collapsed": false
   },
   "outputs": [
    {
     "name": "stdout",
     "output_type": "stream",
     "text": [
      "                 Combined_mass     Log_mass\n",
      "Continent                                  \n",
      "AF        count   1.033000e+03  1033.000000\n",
      "          mean    3.462160e+04  -285.443698\n",
      "          std     2.785594e+05   453.502228\n",
      "          min    -9.990000e+02  -999.000000\n",
      "          25%    -9.990000e+02  -999.000000\n",
      "          50%     2.970000e+01     1.470000\n",
      "          75%     7.500000e+02     2.880000\n",
      "          max     6.500000e+06     6.810000\n",
      "AUS       count   3.460000e+02   346.000000\n",
      "          mean    4.626705e+04   -23.284451\n",
      "          std     1.662109e+05   159.689709\n",
      "          min    -9.990000e+02  -999.000000\n",
      "          25%     2.500000e+01     1.400000\n",
      "          50%     2.280000e+02     2.355000\n",
      "          75%     8.375000e+03     3.922500\n",
      "          max     1.600000e+06     6.200000\n",
      "Af        count   1.000000e+00     1.000000\n",
      "          mean   -9.990000e+02  -999.000000\n",
      "          std              NaN          NaN\n",
      "          min    -9.990000e+02  -999.000000\n",
      "          25%    -9.990000e+02  -999.000000\n",
      "          50%    -9.990000e+02  -999.000000\n",
      "          75%    -9.990000e+02  -999.000000\n",
      "          max    -9.990000e+02  -999.000000\n",
      "EA        count   1.033000e+03  1033.000000\n",
      "          mean    2.219665e+04  -405.632953\n",
      "          std     1.398456e+05   492.379843\n",
      "          min    -9.990000e+02  -999.000000\n",
      "          25%    -9.990000e+02  -999.000000\n",
      "          50%     8.800000e+00     0.940000\n",
      "          75%     4.400000e+02     2.640000\n",
      "          max     2.720000e+06     6.430000\n",
      "Insular   count   1.484000e+03  1484.000000\n",
      "          mean    1.178632e+04  -355.357891\n",
      "          std     1.595879e+05   479.905144\n",
      "          min    -9.990000e+02  -999.000000\n",
      "          25%    -9.990000e+02  -999.000000\n",
      "          50%     1.495000e+01     1.175000\n",
      "          75%     2.515500e+02     2.400000\n",
      "          max     4.000000e+06     6.600000\n",
      "Oceanic   count   7.800000e+01    78.000000\n",
      "          mean    8.238885e+06   -32.793077\n",
      "          std     2.573198e+07   194.494619\n",
      "          min    -9.990000e+02  -999.000000\n",
      "          25%     1.043750e+05     5.017500\n",
      "          50%     2.430000e+05     5.380000\n",
      "          75%     3.400000e+06     6.530000\n",
      "          max     1.900000e+08     8.280000\n",
      "SA        count   9.770000e+02   977.000000\n",
      "          mean    8.025056e+04   -45.724289\n",
      "          std     5.155597e+05   214.415467\n",
      "          min    -9.990000e+02  -999.000000\n",
      "          25%     2.700000e+01     1.430000\n",
      "          50%     8.900000e+01     1.950000\n",
      "          75%     9.000000e+02     2.950000\n",
      "          max     7.580000e+06     6.880000\n"
     ]
    }
   ],
   "source": [
    "# groupby is a great function to help explore data.\n",
    "print (data.groupby('Continent').describe())"
   ]
  },
  {
   "cell_type": "code",
   "execution_count": 140,
   "metadata": {
    "collapsed": false
   },
   "outputs": [
    {
     "data": {
      "image/png": "[encoded data removed]",
      "text/plain": [
       "<matplotlib.figure.Figure at 0x1184ccdd8>"
      ]
     },
     "metadata": {},
     "output_type": "display_data"
    }
   ],
   "source": [
    "data.hist()\n",
    "plt.show()"
   ]
  },
  {
   "cell_type": "code",
   "execution_count": 49,
   "metadata": {
    "collapsed": false
   },
   "outputs": [],
   "source": [
    "n, bins, patches = plt.hist(data['Combined_mass'])"
   ]
  },
  {
   "cell_type": "code",
   "execution_count": 50,
   "metadata": {
    "collapsed": false
   },
   "outputs": [
    {
     "data": {
      "image/png": "[encoded data removed]",
      "text/plain": [
       "<matplotlib.figure.Figure at 0x118cef828>"
      ]
     },
     "metadata": {},
     "output_type": "display_data"
    }
   ],
   "source": [
    "plt.show()"
   ]
  },
  {
   "cell_type": "code",
   "execution_count": 51,
   "metadata": {
    "collapsed": false
   },
   "outputs": [
    {
     "data": {
      "image/png": "[encoded data removed]",
      "text/plain": [
       "<matplotlib.figure.Figure at 0x118d265c0>"
      ]
     },
     "metadata": {},
     "output_type": "display_data"
    }
   ],
   "source": [
    "# Not the most informative graph...\n",
    "# Let's set the number of bins and a range for the x-axis\n",
    "\n",
    "n, bins, patches = plt.hist(data['Combined_mass'],50, [0,200])\n",
    "plt.show()"
   ]
  },
  {
   "cell_type": "code",
   "execution_count": 108,
   "metadata": {
    "collapsed": false
   },
   "outputs": [
    {
     "data": {
      "text/plain": [
       "Status\n",
       "extant          7.126866e+08\n",
       "extinct         1.557245e+08\n",
       "historical      6.276193e+06\n",
       "introduction    3.055696e+06\n",
       "Name: Combined_mass, dtype: float64"
      ]
     },
     "execution_count": 108,
     "metadata": {},
     "output_type": "execute_result"
    }
   ],
   "source": [
    "a=data.groupby('Status')['Combined_mass']\n",
    "a.sum()"
   ]
  },
  {
   "cell_type": "code",
   "execution_count": 151,
   "metadata": {
    "collapsed": false
   },
   "outputs": [
    {
     "data": {
      "image/png": "[encoded data removed]",
      "text/plain": [
       "<matplotlib.figure.Figure at 0x119918f28>"
      ]
     },
     "metadata": {},
     "output_type": "display_data"
    }
   ],
   "source": [
    "data.hist(column='Combined_mass', by='Status', bins=50,range=[0,200])\n",
    "plt.show()"
   ]
  },
  {
   "cell_type": "code",
   "execution_count": 156,
   "metadata": {
    "collapsed": false
   },
   "outputs": [
    {
     "data": {
      "image/png": "[encoded data removed]",
      "text/plain": [
       "<matplotlib.figure.Figure at 0x119053668>"
      ]
     },
     "metadata": {},
     "output_type": "display_data"
    },
    {
     "data": {
      "image/png": "[encoded data removed]",
      "text/plain": [
       "<matplotlib.figure.Figure at 0x1187c2f98>"
      ]
     },
     "metadata": {},
     "output_type": "display_data"
    }
   ],
   "source": [
    "data.hist(column='Combined_mass', by='Continent', bins=50,range=[0,200], histtype='barstacked')\n",
    "plt.show()"
   ]
  },
  {
   "cell_type": "code",
   "execution_count": null,
   "metadata": {
    "collapsed": true
   },
   "outputs": [],
   "source": []
  }
 ],
 "metadata": {
  "kernelspec": {
   "display_name": "Python 3",
   "language": "python",
   "name": "python3"
  },
  "language_info": {
   "codemirror_mode": {
    "name": "ipython",
    "version": 3
   },
   "file_extension": ".py",
   "mimetype": "text/x-python",
   "name": "python",
   "nbconvert_exporter": "python",
   "pygments_lexer": "ipython3",
   "version": "3.6.1"
  }
 },
 "nbformat": 4,
 "nbformat_minor": 2
}
